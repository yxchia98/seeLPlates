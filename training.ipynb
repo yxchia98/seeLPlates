{
 "cells": [
  {
   "cell_type": "markdown",
   "id": "c107b7af",
   "metadata": {},
   "source": [
    "# Model training\n",
    "## Load required packages\n",
    "Install and import YOLOv8 packages and libraries"
   ]
  },
  {
   "cell_type": "code",
   "execution_count": null,
   "id": "39f13cad",
   "metadata": {},
   "outputs": [
    {
     "name": "stdout",
     "output_type": "stream",
     "text": [
      "Looking in indexes: https://pypi.org/simple, https://pypi.ngc.nvidia.com\n",
      "Collecting ultralytics\n",
      "  Downloading ultralytics-8.0.115-py3-none-any.whl (595 kB)\n",
      "\u001b[K     |████████████████████████████████| 595 kB 8.8 kB/s eta 0:00:01\n",
      "\u001b[?25hRequirement already satisfied: requests>=2.23.0 in /usr/local/lib/python3.8/dist-packages (from ultralytics) (2.23.0)\n",
      "Requirement already satisfied: pandas>=1.1.4 in /usr/local/lib/python3.8/dist-packages (from ultralytics) (1.5.2)\n",
      "Requirement already satisfied: torchvision>=0.8.1 in /usr/local/lib/python3.8/dist-packages (from ultralytics) (0.15.0a0)\n",
      "Requirement already satisfied: Pillow>=7.1.2 in /usr/local/lib/python3.8/dist-packages (from ultralytics) (9.2.0)\n",
      "Requirement already satisfied: torch>=1.7.0 in /usr/local/lib/python3.8/dist-packages (from ultralytics) (1.14.0a0+44dac51)\n",
      "Requirement already satisfied: psutil in /usr/local/lib/python3.8/dist-packages (from ultralytics) (5.9.4)\n",
      "Requirement already satisfied: matplotlib>=3.2.2 in /usr/local/lib/python3.8/dist-packages (from ultralytics) (3.6.2)\n",
      "Requirement already satisfied: tqdm>=4.64.0 in /usr/local/lib/python3.8/dist-packages (from ultralytics) (4.64.1)\n",
      "Requirement already satisfied: seaborn>=0.11.0 in /usr/local/lib/python3.8/dist-packages (from ultralytics) (0.12.1)\n",
      "Collecting opencv-python>=4.6.0\n",
      "  Downloading opencv_python-4.7.0.72-cp37-abi3-manylinux_2_17_x86_64.manylinux2014_x86_64.whl (61.8 MB)\n",
      "\u001b[K     |███████▋                        | 14.8 MB 7.4 kB/s eta 1:46:367"
     ]
    }
   ],
   "source": [
    "%pip install ultralytics\n",
    "import ultralytics\n",
    "ultralytics.checks()"
   ]
  },
  {
   "cell_type": "code",
   "execution_count": null,
   "id": "86a3581e",
   "metadata": {},
   "outputs": [],
   "source": [
    "# Start training from a pretrained *.pt model\n",
    "# !yolo detect train data=tballs.yaml model=yolov8n.pt epochs=10 imgsz=640\n",
    "\n",
    "# Build a new model from YAML and start training from scratch\n",
    "# yolo detect train data=tballs.yaml model=yolov8n.yaml epochs=10 imgsz=640\n",
    "\n",
    "# Build a new model from YAML, transfer pretrained weights to it and start training\n",
    "# yolo detect train data=tballs.yaml model=yolov8n.yaml pretrained=yolov8n.pt epochs=10 imgsz=640\n"
   ]
  },
  {
   "cell_type": "markdown",
   "id": "2228557c",
   "metadata": {},
   "source": [
    "## Preparing Data\n",
    "With the train-test-validation dataset already uploaded onto cnvrg.io and specified while provisioning the workspace, the dataset can be referred to under `/data`"
   ]
  },
  {
   "cell_type": "code",
   "execution_count": 4,
   "id": "87948d9b",
   "metadata": {},
   "outputs": [
    {
     "name": "stdout",
     "output_type": "stream",
     "text": [
      "license-plate\n",
      "test  train  validation\n",
      "images\tlabels\n"
     ]
    }
   ],
   "source": [
    "!ls /data\n",
    "!ls /data/license-plate\n",
    "!ls /data/license-plate/train"
   ]
  },
  {
   "cell_type": "markdown",
   "id": "1b9dbcba",
   "metadata": {},
   "source": [
    "## Train YOLOv8 model\n",
    "Using YOLOv8 as the foundational model, we can train and fit the model to detect specific objects."
   ]
  },
  {
   "cell_type": "code",
   "execution_count": null,
   "id": "955acf8a",
   "metadata": {},
   "outputs": [],
   "source": [
    "from ultralytics import YOLO\n",
    "\n",
    "# Load a model\n",
    "# model = YOLO('yolov8n.yaml')  # build a new model from YAML\n",
    "model = YOLO('yolov8n.pt')  # load a pretrained model (recommended for training)\n",
    "# model = YOLO('yolov8n.yaml').load('yolov8n.pt')  # build from YAML and transfer weights\n",
    "\n",
    "# Train the model\n",
    "model.train(data='lpd.yaml', epochs=100, imgsz=640, device='cpu')"
   ]
  },
  {
   "cell_type": "markdown",
   "id": "84a3686b",
   "metadata": {},
   "source": [
    "## Validate Model\n",
    "Validate the trained YOLOv8 model accuracy"
   ]
  },
  {
   "cell_type": "code",
   "execution_count": 3,
   "id": "10428b03",
   "metadata": {},
   "outputs": [
    {
     "name": "stderr",
     "output_type": "stream",
     "text": [
      "/usr/local/lib/python3.8/dist-packages/tqdm/auto.py:22: TqdmWarning: IProgress not found. Please update jupyter and ipywidgets. See https://ipywidgets.readthedocs.io/en/stable/user_install.html\n",
      "  from .autonotebook import tqdm as notebook_tqdm\n",
      "Ultralytics YOLOv8.0.115 🚀 Python-3.8.10 torch-1.14.0a0+44dac51 CPU\n",
      "Model summary (fused): 168 layers, 3005843 parameters, 0 gradients\n",
      "Downloading https://ultralytics.com/assets/Arial.ttf to /tmp/Ultralytics/Arial.ttf...\n",
      "100% 755k/755k [00:00<00:00, 63.6MB/s]\n",
      "\u001b[34m\u001b[1mval: \u001b[0mScanning /data/license-plate/validation/labels.cache... 100 images, 0 backgrounds, 0 corrupt: 100% 100/100 [00:00<?, ?it/s]\n",
      "                 Class     Images  Instances      Box(P          R      mAP50  mAP50-95): 100% 7/7 [00:20<00:00,  2.92s/it]\n",
      "                   all        100        132      0.975      0.833      0.912      0.602\n",
      "Speed: 3.7ms preprocess, 182.3ms inference, 0.0ms loss, 0.3ms postprocess per image\n",
      "Results saved to \u001b[1mruns/detect/val\u001b[0m\n"
     ]
    },
    {
     "data": {
      "text/plain": [
       "array([     0.6024])"
      ]
     },
     "execution_count": 3,
     "metadata": {},
     "output_type": "execute_result"
    }
   ],
   "source": [
    "from ultralytics import YOLO\n",
    "# Load a model\n",
    "# model = YOLO('yolov8n.pt')  # load an official model\n",
    "model = YOLO('runs/detect/train/weights/best.pt')  # load a custom model\n",
    "\n",
    "# Validate the model\n",
    "metrics = model.val()  # no arguments needed, dataset and settings remembered\n",
    "metrics.box.map    # map50-95\n",
    "metrics.box.map50  # map50\n",
    "metrics.box.map75  # map75\n",
    "metrics.box.maps   # a list contains map50-95 of each category"
   ]
  },
  {
   "cell_type": "markdown",
   "id": "b25f9e7a",
   "metadata": {},
   "source": [
    "## Prediction\n",
    "Having the freshly-trained model, we can now use it to predict what we are primarily interested in\n",
    "### Define plotting functions"
   ]
  },
  {
   "cell_type": "code",
   "execution_count": 1,
   "id": "06312fa1",
   "metadata": {},
   "outputs": [],
   "source": [
    "import numpy as np\n",
    "from PIL import Image\n",
    "import requests\n",
    "from io import BytesIO\n",
    "import cv2\n",
    "from matplotlib import pyplot as plt\n",
    "%matplotlib inline\n",
    "\n",
    "def box_label(image, box, label='', color=(128, 128, 128), txt_color=(255, 255, 255)):\n",
    "  lw = max(round(sum(image.shape) / 2 * 0.003), 2)\n",
    "  p1, p2 = (int(box[0]), int(box[1])), (int(box[2]), int(box[3]))\n",
    "  cv2.rectangle(image, p1, p2, color, thickness=lw, lineType=cv2.LINE_AA)\n",
    "  if label:\n",
    "    tf = max(lw - 1, 1)  # font thickness\n",
    "    w, h = cv2.getTextSize(label, 0, fontScale=lw / 3, thickness=tf)[0]  # text width, height\n",
    "    outside = p1[1] - h >= 3\n",
    "    p2 = p1[0] + w, p1[1] - h - 3 if outside else p1[1] + h + 3\n",
    "    cv2.rectangle(image, p1, p2, color, -1, cv2.LINE_AA)  # filled\n",
    "    cv2.putText(image,\n",
    "                label, (p1[0], p1[1] - 2 if outside else p1[1] + h + 2),\n",
    "                0,\n",
    "                lw / 3,\n",
    "                txt_color,\n",
    "                thickness=tf,\n",
    "                lineType=cv2.LINE_AA)\n",
    "\n",
    "def plot_bboxes(image, boxes, labels=[], colors=[], score=True, conf=None):\n",
    "    if labels == []:\n",
    "        labels = {0: u'__background__', 1: u'Tennis Ball'}\n",
    "    #Define colors\n",
    "    if colors == []:\n",
    "        colors = [(255, 100, 100), (253, 246, 160), (40, 132, 70)]\n",
    "                  \n",
    "    #plot each boxes\n",
    "    for box in boxes:\n",
    "      #add score in label if score=True\n",
    "        if score:\n",
    "            label = labels[int(box[-1])+1] + \" \" + str(round(100 * float(box[-2]),1)) + \"%\"\n",
    "        else:\n",
    "            label = labels[int(box[-1])+1]\n",
    "    #filter every box under conf threshold if conf threshold setted\n",
    "    if conf:\n",
    "        if box[-2] > conf:\n",
    "            color = colors[int(box[-1])]\n",
    "            box_label(image, box, label, color)\n",
    "        else:\n",
    "            color = colors[int(box[-1])]\n",
    "            box_label(image, box, label, color)\n",
    "    \n",
    "#     image = cv2.cvtColor(image, cv2.COLOR_BGR2RGB)\n",
    "    plt.imshow(image)\n",
    "    plt.show()"
   ]
  },
  {
   "cell_type": "markdown",
   "id": "e79aff0c",
   "metadata": {},
   "source": [
    "### Predicting an image"
   ]
  },
  {
   "cell_type": "code",
   "execution_count": 82,
   "id": "af3d6758",
   "metadata": {},
   "outputs": [
    {
     "name": "stderr",
     "output_type": "stream",
     "text": [
      "\n",
      "0: 448x640 1 Tennis Ball, 83.1ms\n",
      "Speed: 8.3ms preprocess, 83.1ms inference, 1.1ms postprocess per image at shape (1, 3, 640, 640)\n"
     ]
    },
    {
     "name": "stdout",
     "output_type": "stream",
     "text": [
      "tensor([[7.3824e+02, 1.1790e+02, 1.3425e+03, 6.7686e+02, 9.3486e-01, 0.0000e+00]])\n"
     ]
    },
    {
     "ename": "KeyError",
     "evalue": "1",
     "output_type": "error",
     "traceback": [
      "\u001b[0;31m---------------------------------------------------------------------------\u001b[0m",
      "\u001b[0;31mKeyError\u001b[0m                                  Traceback (most recent call last)",
      "Cell \u001b[0;32mIn[82], line 7\u001b[0m\n\u001b[1;32m      5\u001b[0m results \u001b[38;5;241m=\u001b[39m model\u001b[38;5;241m.\u001b[39mpredict(image)\n\u001b[1;32m      6\u001b[0m \u001b[38;5;28mprint\u001b[39m(results[\u001b[38;5;241m0\u001b[39m]\u001b[38;5;241m.\u001b[39mboxes\u001b[38;5;241m.\u001b[39mdata)\n\u001b[0;32m----> 7\u001b[0m \u001b[43mplot_bboxes\u001b[49m\u001b[43m(\u001b[49m\u001b[43mimage\u001b[49m\u001b[43m,\u001b[49m\u001b[43m \u001b[49m\u001b[43mresults\u001b[49m\u001b[43m[\u001b[49m\u001b[38;5;241;43m0\u001b[39;49m\u001b[43m]\u001b[49m\u001b[38;5;241;43m.\u001b[39;49m\u001b[43mboxes\u001b[49m\u001b[38;5;241;43m.\u001b[39;49m\u001b[43mdata\u001b[49m\u001b[43m,\u001b[49m\u001b[43m \u001b[49m\u001b[43mconf\u001b[49m\u001b[38;5;241;43m=\u001b[39;49m\u001b[38;5;241;43m0.5\u001b[39;49m\u001b[43m)\u001b[49m\n",
      "Cell \u001b[0;32mIn[81], line 40\u001b[0m, in \u001b[0;36mplot_bboxes\u001b[0;34m(image, boxes, labels, colors, score, conf)\u001b[0m\n\u001b[1;32m     37\u001b[0m \u001b[38;5;28;01mfor\u001b[39;00m box \u001b[38;5;129;01min\u001b[39;00m boxes:\n\u001b[1;32m     38\u001b[0m   \u001b[38;5;66;03m#add score in label if score=True\u001b[39;00m\n\u001b[1;32m     39\u001b[0m     \u001b[38;5;28;01mif\u001b[39;00m score:\n\u001b[0;32m---> 40\u001b[0m         label \u001b[38;5;241m=\u001b[39m \u001b[43mlabels\u001b[49m\u001b[43m[\u001b[49m\u001b[38;5;28;43mint\u001b[39;49m\u001b[43m(\u001b[49m\u001b[43mbox\u001b[49m\u001b[43m[\u001b[49m\u001b[38;5;241;43m-\u001b[39;49m\u001b[38;5;241;43m1\u001b[39;49m\u001b[43m]\u001b[49m\u001b[43m)\u001b[49m\u001b[38;5;241;43m+\u001b[39;49m\u001b[38;5;241;43m1\u001b[39;49m\u001b[43m]\u001b[49m \u001b[38;5;241m+\u001b[39m \u001b[38;5;124m\"\u001b[39m\u001b[38;5;124m \u001b[39m\u001b[38;5;124m\"\u001b[39m \u001b[38;5;241m+\u001b[39m \u001b[38;5;28mstr\u001b[39m(\u001b[38;5;28mround\u001b[39m(\u001b[38;5;241m100\u001b[39m \u001b[38;5;241m*\u001b[39m \u001b[38;5;28mfloat\u001b[39m(box[\u001b[38;5;241m-\u001b[39m\u001b[38;5;241m2\u001b[39m]),\u001b[38;5;241m1\u001b[39m)) \u001b[38;5;241m+\u001b[39m \u001b[38;5;124m\"\u001b[39m\u001b[38;5;124m%\u001b[39m\u001b[38;5;124m\"\u001b[39m\n\u001b[1;32m     41\u001b[0m     \u001b[38;5;28;01melse\u001b[39;00m:\n\u001b[1;32m     42\u001b[0m         label \u001b[38;5;241m=\u001b[39m labels[\u001b[38;5;28mint\u001b[39m(box[\u001b[38;5;241m-\u001b[39m\u001b[38;5;241m1\u001b[39m])\u001b[38;5;241m+\u001b[39m\u001b[38;5;241m1\u001b[39m]\n",
      "\u001b[0;31mKeyError\u001b[0m: 1"
     ]
    }
   ],
   "source": [
    "response = requests.get(\"https://www.verywellhealth.com/thmb/bcNgrTUluaM97A33EcuVUwt_HXk=/1500x0/filters:no_upscale():max_bytes(150000):strip_icc()/125847528-56a884c73df78cf7729e83dc.jpg\")\n",
    "image = Image.open(BytesIO(response.content))\n",
    "image = np.asarray(image)\n",
    "    \n",
    "results = model.predict(image)\n",
    "print(results[0].boxes.data)\n",
    "plot_bboxes(image, results[0].boxes.data, conf=0.5)"
   ]
  },
  {
   "cell_type": "markdown",
   "id": "d0c50c76",
   "metadata": {},
   "source": [
    "## Training and Prediction using CLI\n",
    "We can execute what we did in python using the yolo CLI as well, with training and prediction commands"
   ]
  },
  {
   "cell_type": "code",
   "execution_count": null,
   "id": "64a9b6a9",
   "metadata": {},
   "outputs": [],
   "source": [
    "# yolo detect val model=yolov8n.pt  # val official model\n",
    "# yolo detect val model=path/to/best.pt  # val custom model"
   ]
  },
  {
   "cell_type": "code",
   "execution_count": 40,
   "id": "3969ff04",
   "metadata": {},
   "outputs": [
    {
     "name": "stdout",
     "output_type": "stream",
     "text": [
      "Ultralytics YOLOv8.0.113 🚀 Python-3.8.10 torch-1.14.0a0+44dac51 CPU\n",
      "Model summary (fused): 168 layers, 3005843 parameters, 0 gradients\n",
      "\n",
      "Downloading https://www.verywellhealth.com/thmb/bcNgrTUluaM97A33EcuVUwt_HXk=/1500x0/filters:no_upscale():max_bytes(150000):strip_icc()/125847528-56a884c73df78cf7729e83dc.jpg to 125847528-56a884c73df78cf7729e83dc.jpg...\n",
      "100%|█████████████████████████████████████████| 135k/135k [00:00<00:00, 208kB/s]\n",
      "image 1/1 /cnvrg/125847528-56a884c73df78cf7729e83dc.jpg: 448x640 1 Tennis Ball, 85.3ms\n",
      "Speed: 11.1ms preprocess, 85.3ms inference, 1.0ms postprocess per image at shape (1, 3, 640, 640)\n",
      "Results saved to \u001b[1mruns/detect/predict2\u001b[0m\n"
     ]
    }
   ],
   "source": [
    "# yolo detect predict model=yolov8n.pt source='https://ultralytics.com/images/bus.jpg'  # predict with official model\n",
    "# !yolo detect predict model=runs/detect/train/weights/best.pt source='https://www.verywellhealth.com/thmb/bcNgrTUluaM97A33EcuVUwt_HXk=/1500x0/filters:no_upscale():max_bytes(150000):strip_icc()/125847528-56a884c73df78cf7729e83dc.jpg'"
   ]
  },
  {
   "cell_type": "code",
   "execution_count": 18,
   "id": "99ca3329",
   "metadata": {},
   "outputs": [],
   "source": [
    "# Copy trained weight to output folder\n",
    "!cp runs/detect/train/weights/best.pt output/best.pt"
   ]
  },
  {
   "cell_type": "markdown",
   "id": "299ca23e",
   "metadata": {},
   "source": [
    "## Export Model\n",
    "Export the model into your desired format"
   ]
  },
  {
   "cell_type": "code",
   "execution_count": null,
   "id": "4e20ee27",
   "metadata": {},
   "outputs": [],
   "source": [
    "# Load a model\n",
    "model = YOLO('runs/detect/train/weights/best.ptt')  # load a custom trained\n",
    "\n",
    "# Export the model\n",
    "model.export(format='onnx')"
   ]
  }
 ],
 "metadata": {
  "kernelspec": {
   "display_name": "Python 3 (ipykernel)",
   "language": "python",
   "name": "python3"
  },
  "language_info": {
   "codemirror_mode": {
    "name": "ipython",
    "version": 3
   },
   "file_extension": ".py",
   "mimetype": "text/x-python",
   "name": "python",
   "nbconvert_exporter": "python",
   "pygments_lexer": "ipython3",
   "version": "3.8.10"
  }
 },
 "nbformat": 4,
 "nbformat_minor": 5
}
